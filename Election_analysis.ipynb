{
  "nbformat": 4,
  "nbformat_minor": 0,
  "metadata": {
    "colab": {
      "provenance": []
    },
    "kernelspec": {
      "name": "python3",
      "display_name": "Python 3"
    },
    "language_info": {
      "name": "python"
    }
  },
  "cells": [
    {
      "cell_type": "markdown",
      "source": [
        "#Presentation \n",
        "###by Ayumu Ueda\n",
        "###In this presentaion, I give you my analysis for the 2020 Congressional Race between Anna Eshoo and Rishi Kumar in Mountain View which belong to 18th Congressional Precinct. \n",
        "###First of all, I show the relationship between racial makeup and the percentage of the votes obtained by Anna, and then I make prediction model that can predict how much votes she can get in each precinct from the racial makeup.\n",
        "\n",
        "\n",
        "\n"
      ],
      "metadata": {
        "id": "LVw8SL1uzNnf"
      }
    },
    {
      "cell_type": "code",
      "execution_count": null,
      "metadata": {
        "id": "z1FeYlYiSwUx"
      },
      "outputs": [],
      "source": [
        "import pandas as pd\n",
        "import numpy as np\n",
        "import seaborn as sns\n",
        "import matplotlib.pyplot as plt\n",
        "pd.set_option('display.max_columns', None)\n",
        "df = pd.read_csv(\"/content/drive/MyDrive/Volunteering/final.csv\")\n",
        "df_1 = df.copy()\n",
        "df_4 = df.copy()\n",
        "\n",
        "df_1[\"Total Population\"]  -= df_1[\"White\"]\n",
        "df_1[\"Total Population\"]  -= df_1[\"Other\"]\n",
        "df_1 = df_1.drop([\"White\",\"Other\"], axis=1)\n",
        "\n",
        "def funcA(x):\n",
        "  x[\"Black_ratio\"] = x[\"Black\"] / x[\"Total Population\"]\n",
        "  x[\"Indian_ratio\"] = x[\"Indian\"] / x[\"Total Population\"]\n",
        "  x[\"Asian_ratio\"] = x[\"Asian\"] / x[\"Total Population\"]\n",
        "  x[\"Islander_ratio\"] = x[\"Islander\"] / x[\"Total Population\"]\n",
        "  x[\"Vacant_ratio\"] = x[\"Vacant\"] / x[\"Total house\"]\n",
        "  x[\"Vote_By_Mail_ratio_a\"] = x[\"Vote By Mail_a\"] / x[\"Total Votes_a\"]\n",
        "  x[\"Vote_By_Mail_ratio_r\"] = x[\"Vote By Mail_r\"] / x[\"Total Votes_r\"]\n",
        "  x[\"Vote for a rate\"] = x[\"Total Votes_a\"] / x[\"Total\"]\n",
        "  return x\n",
        "\n",
        "def funcB(x):\n",
        "  x[\"White_ratio\"] = x[\"White\"] / x[\"Total Population\"]\n",
        "  x[\"Black_ratio\"] = x[\"Black\"] / x[\"Total Population\"]\n",
        "  x[\"Indian_ratio\"] = x[\"Indian\"] / x[\"Total Population\"]\n",
        "  x[\"Asian_ratio\"] = x[\"Asian\"] / x[\"Total Population\"]\n",
        "  x[\"Islander_ratio\"] = x[\"Islander\"] / x[\"Total Population\"]\n",
        "  x[\"Other_ratio\"] = x[\"Other\"] / x[\"Total Population\"]\n",
        "  x[\"Vote for a rate\"] = x[\"Total Votes_a\"] / x[\"Total\"]\n",
        "funcA(df_1)\n",
        "funcB(df_4)\n",
        "df_1 = df_1.set_index(\"precinct\")\n",
        "df_4 = df_4.set_index(\"precinct\")\n",
        "df_1 = df_1.loc[:,\"Black_ratio\":]\n",
        "df_4 = df_4.loc[:,\"White_ratio\":]"
      ]
    },
    {
      "cell_type": "markdown",
      "source": [
        "##Here is the explanation of each column\n",
        "####Index = Precinct in 18th congressional district in Moutain View\n",
        "####Black_ratio = the proportion of Black or African American alone in a precinct\n",
        "####Indian_ratio = the proportion of American Indian and Alaska Native alone in a precinct \n",
        "####Asian_ratio = the proportion of Asian alone in a precinct\n",
        "####Islander_ratio = the proportion of Native Hawaiian and Other Pacific Islander alone in a precinct\n",
        "####Vote for a rate = the percentage of the votes obtained by Anna in a precinct.\n",
        "\n",
        "\n",
        "\n"
      ],
      "metadata": {
        "id": "YpfMqa5RrT1r"
      }
    },
    {
      "cell_type": "markdown",
      "source": [
        "##In this presentation, I consider only 4 alone above races(Black,Indian,Asian,Islander)"
      ],
      "metadata": {
        "id": "ijURi-4udcq4"
      }
    },
    {
      "cell_type": "code",
      "source": [
        "df_1"
      ],
      "metadata": {
        "colab": {
          "base_uri": "https://localhost:8080/",
          "height": 614
        },
        "id": "YSza9gKHfim9",
        "outputId": "6ccc2a13-c03f-49c8-80d2-f5fb037a7aab"
      },
      "execution_count": null,
      "outputs": [
        {
          "output_type": "execute_result",
          "data": {
            "text/html": [
              "\n",
              "  <div id=\"df-d9794413-d1fd-4309-b861-2ddacb11eaca\">\n",
              "    <div class=\"colab-df-container\">\n",
              "      <div>\n",
              "<style scoped>\n",
              "    .dataframe tbody tr th:only-of-type {\n",
              "        vertical-align: middle;\n",
              "    }\n",
              "\n",
              "    .dataframe tbody tr th {\n",
              "        vertical-align: top;\n",
              "    }\n",
              "\n",
              "    .dataframe thead th {\n",
              "        text-align: right;\n",
              "    }\n",
              "</style>\n",
              "<table border=\"1\" class=\"dataframe\">\n",
              "  <thead>\n",
              "    <tr style=\"text-align: right;\">\n",
              "      <th></th>\n",
              "      <th>Black_ratio</th>\n",
              "      <th>Indian_ratio</th>\n",
              "      <th>Asian_ratio</th>\n",
              "      <th>Islander_ratio</th>\n",
              "      <th>Vacant_ratio</th>\n",
              "      <th>Vote_By_Mail_ratio_a</th>\n",
              "      <th>Vote_By_Mail_ratio_r</th>\n",
              "      <th>Vote for a rate</th>\n",
              "    </tr>\n",
              "    <tr>\n",
              "      <th>precinct</th>\n",
              "      <th></th>\n",
              "      <th></th>\n",
              "      <th></th>\n",
              "      <th></th>\n",
              "      <th></th>\n",
              "      <th></th>\n",
              "      <th></th>\n",
              "      <th></th>\n",
              "    </tr>\n",
              "  </thead>\n",
              "  <tbody>\n",
              "    <tr>\n",
              "      <th>3410</th>\n",
              "      <td>0.036893</td>\n",
              "      <td>0.023301</td>\n",
              "      <td>0.939806</td>\n",
              "      <td>0.000000</td>\n",
              "      <td>0.055782</td>\n",
              "      <td>0.959401</td>\n",
              "      <td>0.930701</td>\n",
              "      <td>0.625076</td>\n",
              "    </tr>\n",
              "    <tr>\n",
              "      <th>2951</th>\n",
              "      <td>0.162835</td>\n",
              "      <td>0.080460</td>\n",
              "      <td>0.687739</td>\n",
              "      <td>0.068966</td>\n",
              "      <td>0.064516</td>\n",
              "      <td>0.942623</td>\n",
              "      <td>0.870690</td>\n",
              "      <td>0.512605</td>\n",
              "    </tr>\n",
              "    <tr>\n",
              "      <th>2018</th>\n",
              "      <td>0.072139</td>\n",
              "      <td>0.004975</td>\n",
              "      <td>0.915423</td>\n",
              "      <td>0.007463</td>\n",
              "      <td>0.051322</td>\n",
              "      <td>0.966667</td>\n",
              "      <td>0.825000</td>\n",
              "      <td>0.600000</td>\n",
              "    </tr>\n",
              "    <tr>\n",
              "      <th>3402</th>\n",
              "      <td>0.072139</td>\n",
              "      <td>0.004975</td>\n",
              "      <td>0.915423</td>\n",
              "      <td>0.007463</td>\n",
              "      <td>0.051322</td>\n",
              "      <td>0.964059</td>\n",
              "      <td>0.929782</td>\n",
              "      <td>0.696100</td>\n",
              "    </tr>\n",
              "    <tr>\n",
              "      <th>2013</th>\n",
              "      <td>0.033022</td>\n",
              "      <td>0.005025</td>\n",
              "      <td>0.958363</td>\n",
              "      <td>0.003589</td>\n",
              "      <td>0.049467</td>\n",
              "      <td>0.961388</td>\n",
              "      <td>0.928571</td>\n",
              "      <td>0.708940</td>\n",
              "    </tr>\n",
              "    <tr>\n",
              "      <th>2006</th>\n",
              "      <td>0.020349</td>\n",
              "      <td>0.002907</td>\n",
              "      <td>0.968023</td>\n",
              "      <td>0.008721</td>\n",
              "      <td>0.034375</td>\n",
              "      <td>0.977273</td>\n",
              "      <td>0.941176</td>\n",
              "      <td>0.721311</td>\n",
              "    </tr>\n",
              "    <tr>\n",
              "      <th>2125</th>\n",
              "      <td>0.020349</td>\n",
              "      <td>0.002907</td>\n",
              "      <td>0.968023</td>\n",
              "      <td>0.008721</td>\n",
              "      <td>0.034375</td>\n",
              "      <td>0.985714</td>\n",
              "      <td>0.950617</td>\n",
              "      <td>0.721649</td>\n",
              "    </tr>\n",
              "    <tr>\n",
              "      <th>3427</th>\n",
              "      <td>0.055556</td>\n",
              "      <td>0.023663</td>\n",
              "      <td>0.916667</td>\n",
              "      <td>0.004115</td>\n",
              "      <td>0.049393</td>\n",
              "      <td>0.946111</td>\n",
              "      <td>0.927393</td>\n",
              "      <td>0.642408</td>\n",
              "    </tr>\n",
              "    <tr>\n",
              "      <th>2305</th>\n",
              "      <td>0.038879</td>\n",
              "      <td>0.013722</td>\n",
              "      <td>0.942824</td>\n",
              "      <td>0.004574</td>\n",
              "      <td>0.052151</td>\n",
              "      <td>0.961936</td>\n",
              "      <td>0.940032</td>\n",
              "      <td>0.686802</td>\n",
              "    </tr>\n",
              "    <tr>\n",
              "      <th>3434</th>\n",
              "      <td>0.031250</td>\n",
              "      <td>0.001838</td>\n",
              "      <td>0.963235</td>\n",
              "      <td>0.003676</td>\n",
              "      <td>0.014035</td>\n",
              "      <td>0.976828</td>\n",
              "      <td>0.942053</td>\n",
              "      <td>0.695718</td>\n",
              "    </tr>\n",
              "    <tr>\n",
              "      <th>3438</th>\n",
              "      <td>0.039557</td>\n",
              "      <td>0.025316</td>\n",
              "      <td>0.928797</td>\n",
              "      <td>0.006329</td>\n",
              "      <td>0.049612</td>\n",
              "      <td>0.971588</td>\n",
              "      <td>0.939369</td>\n",
              "      <td>0.658633</td>\n",
              "    </tr>\n",
              "    <tr>\n",
              "      <th>3445</th>\n",
              "      <td>0.033691</td>\n",
              "      <td>0.004594</td>\n",
              "      <td>0.957121</td>\n",
              "      <td>0.004594</td>\n",
              "      <td>0.049856</td>\n",
              "      <td>0.955721</td>\n",
              "      <td>0.938053</td>\n",
              "      <td>0.640127</td>\n",
              "    </tr>\n",
              "    <tr>\n",
              "      <th>3417</th>\n",
              "      <td>0.063859</td>\n",
              "      <td>0.024457</td>\n",
              "      <td>0.908967</td>\n",
              "      <td>0.002717</td>\n",
              "      <td>0.113697</td>\n",
              "      <td>0.962598</td>\n",
              "      <td>0.936285</td>\n",
              "      <td>0.686951</td>\n",
              "    </tr>\n",
              "    <tr>\n",
              "      <th>3407</th>\n",
              "      <td>0.036638</td>\n",
              "      <td>0.047414</td>\n",
              "      <td>0.875000</td>\n",
              "      <td>0.040948</td>\n",
              "      <td>0.151130</td>\n",
              "      <td>0.956720</td>\n",
              "      <td>0.941441</td>\n",
              "      <td>0.664145</td>\n",
              "    </tr>\n",
              "    <tr>\n",
              "      <th>3409</th>\n",
              "      <td>0.028947</td>\n",
              "      <td>0.017105</td>\n",
              "      <td>0.953947</td>\n",
              "      <td>0.000000</td>\n",
              "      <td>0.077455</td>\n",
              "      <td>0.952614</td>\n",
              "      <td>0.897922</td>\n",
              "      <td>0.649017</td>\n",
              "    </tr>\n",
              "    <tr>\n",
              "      <th>3408</th>\n",
              "      <td>0.054155</td>\n",
              "      <td>0.055089</td>\n",
              "      <td>0.879552</td>\n",
              "      <td>0.011204</td>\n",
              "      <td>0.073460</td>\n",
              "      <td>0.950750</td>\n",
              "      <td>0.915270</td>\n",
              "      <td>0.665003</td>\n",
              "    </tr>\n",
              "    <tr>\n",
              "      <th>3406</th>\n",
              "      <td>0.045331</td>\n",
              "      <td>0.048957</td>\n",
              "      <td>0.902085</td>\n",
              "      <td>0.003626</td>\n",
              "      <td>0.100134</td>\n",
              "      <td>0.923077</td>\n",
              "      <td>0.888027</td>\n",
              "      <td>0.641209</td>\n",
              "    </tr>\n",
              "  </tbody>\n",
              "</table>\n",
              "</div>\n",
              "      <button class=\"colab-df-convert\" onclick=\"convertToInteractive('df-d9794413-d1fd-4309-b861-2ddacb11eaca')\"\n",
              "              title=\"Convert this dataframe to an interactive table.\"\n",
              "              style=\"display:none;\">\n",
              "        \n",
              "  <svg xmlns=\"http://www.w3.org/2000/svg\" height=\"24px\"viewBox=\"0 0 24 24\"\n",
              "       width=\"24px\">\n",
              "    <path d=\"M0 0h24v24H0V0z\" fill=\"none\"/>\n",
              "    <path d=\"M18.56 5.44l.94 2.06.94-2.06 2.06-.94-2.06-.94-.94-2.06-.94 2.06-2.06.94zm-11 1L8.5 8.5l.94-2.06 2.06-.94-2.06-.94L8.5 2.5l-.94 2.06-2.06.94zm10 10l.94 2.06.94-2.06 2.06-.94-2.06-.94-.94-2.06-.94 2.06-2.06.94z\"/><path d=\"M17.41 7.96l-1.37-1.37c-.4-.4-.92-.59-1.43-.59-.52 0-1.04.2-1.43.59L10.3 9.45l-7.72 7.72c-.78.78-.78 2.05 0 2.83L4 21.41c.39.39.9.59 1.41.59.51 0 1.02-.2 1.41-.59l7.78-7.78 2.81-2.81c.8-.78.8-2.07 0-2.86zM5.41 20L4 18.59l7.72-7.72 1.47 1.35L5.41 20z\"/>\n",
              "  </svg>\n",
              "      </button>\n",
              "      \n",
              "  <style>\n",
              "    .colab-df-container {\n",
              "      display:flex;\n",
              "      flex-wrap:wrap;\n",
              "      gap: 12px;\n",
              "    }\n",
              "\n",
              "    .colab-df-convert {\n",
              "      background-color: #E8F0FE;\n",
              "      border: none;\n",
              "      border-radius: 50%;\n",
              "      cursor: pointer;\n",
              "      display: none;\n",
              "      fill: #1967D2;\n",
              "      height: 32px;\n",
              "      padding: 0 0 0 0;\n",
              "      width: 32px;\n",
              "    }\n",
              "\n",
              "    .colab-df-convert:hover {\n",
              "      background-color: #E2EBFA;\n",
              "      box-shadow: 0px 1px 2px rgba(60, 64, 67, 0.3), 0px 1px 3px 1px rgba(60, 64, 67, 0.15);\n",
              "      fill: #174EA6;\n",
              "    }\n",
              "\n",
              "    [theme=dark] .colab-df-convert {\n",
              "      background-color: #3B4455;\n",
              "      fill: #D2E3FC;\n",
              "    }\n",
              "\n",
              "    [theme=dark] .colab-df-convert:hover {\n",
              "      background-color: #434B5C;\n",
              "      box-shadow: 0px 1px 3px 1px rgba(0, 0, 0, 0.15);\n",
              "      filter: drop-shadow(0px 1px 2px rgba(0, 0, 0, 0.3));\n",
              "      fill: #FFFFFF;\n",
              "    }\n",
              "  </style>\n",
              "\n",
              "      <script>\n",
              "        const buttonEl =\n",
              "          document.querySelector('#df-d9794413-d1fd-4309-b861-2ddacb11eaca button.colab-df-convert');\n",
              "        buttonEl.style.display =\n",
              "          google.colab.kernel.accessAllowed ? 'block' : 'none';\n",
              "\n",
              "        async function convertToInteractive(key) {\n",
              "          const element = document.querySelector('#df-d9794413-d1fd-4309-b861-2ddacb11eaca');\n",
              "          const dataTable =\n",
              "            await google.colab.kernel.invokeFunction('convertToInteractive',\n",
              "                                                     [key], {});\n",
              "          if (!dataTable) return;\n",
              "\n",
              "          const docLinkHtml = 'Like what you see? Visit the ' +\n",
              "            '<a target=\"_blank\" href=https://colab.research.google.com/notebooks/data_table.ipynb>data table notebook</a>'\n",
              "            + ' to learn more about interactive tables.';\n",
              "          element.innerHTML = '';\n",
              "          dataTable['output_type'] = 'display_data';\n",
              "          await google.colab.output.renderOutput(dataTable, element);\n",
              "          const docLink = document.createElement('div');\n",
              "          docLink.innerHTML = docLinkHtml;\n",
              "          element.appendChild(docLink);\n",
              "        }\n",
              "      </script>\n",
              "    </div>\n",
              "  </div>\n",
              "  "
            ],
            "text/plain": [
              "          Black_ratio  Indian_ratio  Asian_ratio  Islander_ratio  \\\n",
              "precinct                                                           \n",
              "3410         0.036893      0.023301     0.939806        0.000000   \n",
              "2951         0.162835      0.080460     0.687739        0.068966   \n",
              "2018         0.072139      0.004975     0.915423        0.007463   \n",
              "3402         0.072139      0.004975     0.915423        0.007463   \n",
              "2013         0.033022      0.005025     0.958363        0.003589   \n",
              "2006         0.020349      0.002907     0.968023        0.008721   \n",
              "2125         0.020349      0.002907     0.968023        0.008721   \n",
              "3427         0.055556      0.023663     0.916667        0.004115   \n",
              "2305         0.038879      0.013722     0.942824        0.004574   \n",
              "3434         0.031250      0.001838     0.963235        0.003676   \n",
              "3438         0.039557      0.025316     0.928797        0.006329   \n",
              "3445         0.033691      0.004594     0.957121        0.004594   \n",
              "3417         0.063859      0.024457     0.908967        0.002717   \n",
              "3407         0.036638      0.047414     0.875000        0.040948   \n",
              "3409         0.028947      0.017105     0.953947        0.000000   \n",
              "3408         0.054155      0.055089     0.879552        0.011204   \n",
              "3406         0.045331      0.048957     0.902085        0.003626   \n",
              "\n",
              "          Vacant_ratio  Vote_By_Mail_ratio_a  Vote_By_Mail_ratio_r  \\\n",
              "precinct                                                             \n",
              "3410          0.055782              0.959401              0.930701   \n",
              "2951          0.064516              0.942623              0.870690   \n",
              "2018          0.051322              0.966667              0.825000   \n",
              "3402          0.051322              0.964059              0.929782   \n",
              "2013          0.049467              0.961388              0.928571   \n",
              "2006          0.034375              0.977273              0.941176   \n",
              "2125          0.034375              0.985714              0.950617   \n",
              "3427          0.049393              0.946111              0.927393   \n",
              "2305          0.052151              0.961936              0.940032   \n",
              "3434          0.014035              0.976828              0.942053   \n",
              "3438          0.049612              0.971588              0.939369   \n",
              "3445          0.049856              0.955721              0.938053   \n",
              "3417          0.113697              0.962598              0.936285   \n",
              "3407          0.151130              0.956720              0.941441   \n",
              "3409          0.077455              0.952614              0.897922   \n",
              "3408          0.073460              0.950750              0.915270   \n",
              "3406          0.100134              0.923077              0.888027   \n",
              "\n",
              "          Vote for a rate  \n",
              "precinct                   \n",
              "3410             0.625076  \n",
              "2951             0.512605  \n",
              "2018             0.600000  \n",
              "3402             0.696100  \n",
              "2013             0.708940  \n",
              "2006             0.721311  \n",
              "2125             0.721649  \n",
              "3427             0.642408  \n",
              "2305             0.686802  \n",
              "3434             0.695718  \n",
              "3438             0.658633  \n",
              "3445             0.640127  \n",
              "3417             0.686951  \n",
              "3407             0.664145  \n",
              "3409             0.649017  \n",
              "3408             0.665003  \n",
              "3406             0.641209  "
            ]
          },
          "metadata": {},
          "execution_count": 2
        }
      ]
    },
    {
      "cell_type": "markdown",
      "source": [
        "##1.There is a correlation between Asian_ratio and Vote for a rate, it means that Asian people tend to support her.\n",
        "\n",
        "\n",
        "\n",
        "\n",
        "\n",
        "\n"
      ],
      "metadata": {
        "id": "iSqncaZg_1jD"
      }
    },
    {
      "cell_type": "code",
      "source": [
        "corr = df_1[[\"Asian_ratio\",\"Vote for a rate\"]].corr()\n",
        "print(corr)\n",
        "sns.heatmap(corr)\n",
        "plt.show()"
      ],
      "metadata": {
        "colab": {
          "base_uri": "https://localhost:8080/",
          "height": 322
        },
        "id": "1QaYj-DmAN94",
        "outputId": "6f7c7daa-f7f7-4c4d-c6ba-01f9d5a3db75"
      },
      "execution_count": null,
      "outputs": [
        {
          "output_type": "stream",
          "name": "stdout",
          "text": [
            "                 Asian_ratio  Vote for a rate\n",
            "Asian_ratio          1.00000          0.78348\n",
            "Vote for a rate      0.78348          1.00000\n"
          ]
        },
        {
          "output_type": "display_data",
          "data": {
            "image/png": "[encoded data removed]",
            "text/plain": [
              "<Figure size 432x288 with 2 Axes>"
            ]
          },
          "metadata": {
            "needs_background": "light"
          }
        }
      ]
    },
    {
      "cell_type": "markdown",
      "source": [
        "##2.Indian_ratio have a negative correlation with Vote for a rate, therefore Anna tend not to be supported in the area where more American Indian people live.\n"
      ],
      "metadata": {
        "id": "ocqj7gNgEQjF"
      }
    },
    {
      "cell_type": "code",
      "source": [
        "corr = df_1[[\"Indian_ratio\",\"Vote for a rate\"]].corr()\n",
        "print(corr)\n",
        "sns.heatmap(corr)\n",
        "plt.show()"
      ],
      "metadata": {
        "colab": {
          "base_uri": "https://localhost:8080/",
          "height": 322
        },
        "id": "_SwvOJSAD920",
        "outputId": "d7c83b24-7032-4b3f-aefe-579d765165ea"
      },
      "execution_count": null,
      "outputs": [
        {
          "output_type": "stream",
          "name": "stdout",
          "text": [
            "                 Indian_ratio  Vote for a rate\n",
            "Indian_ratio         1.000000        -0.654297\n",
            "Vote for a rate     -0.654297         1.000000\n"
          ]
        },
        {
          "output_type": "display_data",
          "data": {
            "image/png": "[encoded data removed]",
            "text/plain": [
              "<Figure size 432x288 with 2 Axes>"
            ]
          },
          "metadata": {
            "needs_background": "light"
          }
        }
      ]
    },
    {
      "cell_type": "markdown",
      "source": [
        "\n",
        "##3.There is strong negative correlation between Black_ratio and Vote for a rate, it explain that Anna is struggle with collecting votes in precinct where  more Black or African American alone people live.\n"
      ],
      "metadata": {
        "id": "D8v6-i7zFTu_"
      }
    },
    {
      "cell_type": "code",
      "source": [
        "corr = df_1[[\"Black_ratio\",\"Vote for a rate\"]].corr()\n",
        "print(corr)\n",
        "sns.heatmap(corr)\n",
        "plt.show()"
      ],
      "metadata": {
        "colab": {
          "base_uri": "https://localhost:8080/",
          "height": 322
        },
        "id": "XKoyqEtMFE5J",
        "outputId": "e655abb8-a7e5-4629-81ce-9f9559f41c00"
      },
      "execution_count": null,
      "outputs": [
        {
          "output_type": "stream",
          "name": "stdout",
          "text": [
            "                 Black_ratio  Vote for a rate\n",
            "Black_ratio         1.000000        -0.782564\n",
            "Vote for a rate    -0.782564         1.000000\n"
          ]
        },
        {
          "output_type": "display_data",
          "data": {
            "image/png": "[encoded data removed]",
            "text/plain": [
              "<Figure size 432x288 with 2 Axes>"
            ]
          },
          "metadata": {
            "needs_background": "light"
          }
        }
      ]
    },
    {
      "cell_type": "markdown",
      "source": [
        "##4.There is a negative correlation between Islander_ratio and Vote for a rate, which shows that Anna tend to gather less votes in a precinct where more Native Hawaiian and Other Pacific Islander alone people live.\n",
        "\n"
      ],
      "metadata": {
        "id": "h-ItLyepFzKx"
      }
    },
    {
      "cell_type": "code",
      "source": [
        "corr = df_1[[\"Islander_ratio\",\"Vote for a rate\"]].corr()\n",
        "print(corr)\n",
        "sns.heatmap(corr)\n",
        "plt.show()"
      ],
      "metadata": {
        "colab": {
          "base_uri": "https://localhost:8080/",
          "height": 322
        },
        "id": "XC_lVC6fF0zH",
        "outputId": "c26b67ea-6745-4b20-f5e2-9a826b85badc"
      },
      "execution_count": null,
      "outputs": [
        {
          "output_type": "stream",
          "name": "stdout",
          "text": [
            "                 Islander_ratio  Vote for a rate\n",
            "Islander_ratio         1.000000        -0.609724\n",
            "Vote for a rate       -0.609724         1.000000\n"
          ]
        },
        {
          "output_type": "display_data",
          "data": {
            "image/png": "[encoded data removed]",
            "text/plain": [
              "<Figure size 432x288 with 2 Axes>"
            ]
          },
          "metadata": {
            "needs_background": "light"
          }
        }
      ]
    },
    {
      "cell_type": "markdown",
      "source": [
        "##From 1,2,3,4, I can say that Anna have tendency to get less votes where less Asian alone live and more other races alone live."
      ],
      "metadata": {
        "id": "_gkYszqnLjue"
      }
    },
    {
      "cell_type": "markdown",
      "source": [
        "##Let's take a look at precinct 2951 and 3409 as a good example shows that tendency"
      ],
      "metadata": {
        "id": "L6yH-Sk-UIXb"
      }
    },
    {
      "cell_type": "markdown",
      "source": [
        "###below pictures shows that more Asian people live in 3409 precinct than 2951 precinct\n",
        "\n"
      ],
      "metadata": {
        "id": "f2Zgpw1ItBtP"
      }
    },
    {
      "cell_type": "code",
      "source": [
        "df_2 = df_1.iloc[:,:4].T \n",
        "df_2 = df_2[[3409, 2951]]\n",
        "df_2 = df_2.T\n",
        "label = list(df_2.columns)"
      ],
      "metadata": {
        "id": "ehsNRc6TORR8"
      },
      "execution_count": null,
      "outputs": []
    },
    {
      "cell_type": "code",
      "source": [
        "x = df_2.T[2951].to_numpy()\n",
        "plt.pie(x, labels=label, counterclock=False, startangle=90, autopct=\"%1.1f%%\")\n",
        "plt.title(\"2951 Precinct\")\n",
        "plt.show()"
      ],
      "metadata": {
        "colab": {
          "base_uri": "https://localhost:8080/",
          "height": 264
        },
        "id": "nBs27YhWWvOy",
        "outputId": "c6b26ded-4ba4-4e9a-a23e-6ba8a385dc45"
      },
      "execution_count": null,
      "outputs": [
        {
          "output_type": "display_data",
          "data": {
            "image/png": "[encoded data removed]",
            "text/plain": [
              "<Figure size 432x288 with 1 Axes>"
            ]
          },
          "metadata": {}
        }
      ]
    },
    {
      "cell_type": "code",
      "source": [
        "x = df_2.T[3409].to_numpy()\n",
        "plt.pie(x, labels=label, counterclock=False, startangle=90, autopct=\"%1.1f%%\")\n",
        "plt.title(\"3409 Precinct\")\n",
        "plt.show()"
      ],
      "metadata": {
        "colab": {
          "base_uri": "https://localhost:8080/",
          "height": 264
        },
        "id": "q7P_z2BnbHIT",
        "outputId": "deeb2452-9f47-4bb8-f247-bf04bfeca8f6"
      },
      "execution_count": null,
      "outputs": [
        {
          "output_type": "display_data",
          "data": {
            "image/png": "[encoded data removed]",
            "text/plain": [
              "<Figure size 432x288 with 1 Axes>"
            ]
          },
          "metadata": {}
        }
      ]
    },
    {
      "cell_type": "markdown",
      "source": [
        "##below picture shows that Anna gather more votes in precinct 3409 than 2951"
      ],
      "metadata": {
        "id": "ljmInsnewdUX"
      }
    },
    {
      "cell_type": "code",
      "source": [
        "df_3 = df_1.loc[[2951, 3409],[\"Vote for a rate\"]]\n",
        "df_3.plot.bar()"
      ],
      "metadata": {
        "colab": {
          "base_uri": "https://localhost:8080/",
          "height": 312
        },
        "id": "ZHSH3Zc4ccVS",
        "outputId": "a2917818-74fc-49cd-ee80-00b021c9304a"
      },
      "execution_count": null,
      "outputs": [
        {
          "output_type": "execute_result",
          "data": {
            "text/plain": [
              "<matplotlib.axes._subplots.AxesSubplot at 0x7f88d1b5b310>"
            ]
          },
          "metadata": {},
          "execution_count": 10
        },
        {
          "output_type": "display_data",
          "data": {
            "image/png": "[encoded data removed]",
            "text/plain": [
              "<Figure size 432x288 with 1 Axes>"
            ]
          },
          "metadata": {
            "needs_background": "light"
          }
        }
      ]
    },
    {
      "cell_type": "markdown",
      "source": [
        "##From the above reason, I think there is some relationship between racial makeup and how much votes she can get."
      ],
      "metadata": {
        "id": "LhSN5XEGgWK6"
      }
    },
    {
      "cell_type": "markdown",
      "source": [
        "##Prediction model by ElasticnetCV\n",
        "##I use ElasticNetCV for model. I split 15 datasets into 12 train data and 3 test data.\n"
      ],
      "metadata": {
        "id": "zkyKv0r3JLLu"
      }
    },
    {
      "cell_type": "code",
      "source": [
        "df_4"
      ],
      "metadata": {
        "colab": {
          "base_uri": "https://localhost:8080/",
          "height": 614
        },
        "id": "GDbokBsjREw1",
        "outputId": "04cd94f3-9d1a-413c-fcd9-36379e5f81c1"
      },
      "execution_count": null,
      "outputs": [
        {
          "output_type": "execute_result",
          "data": {
            "text/html": [
              "\n",
              "  <div id=\"df-713f544f-c058-4360-b036-d962424a3002\">\n",
              "    <div class=\"colab-df-container\">\n",
              "      <div>\n",
              "<style scoped>\n",
              "    .dataframe tbody tr th:only-of-type {\n",
              "        vertical-align: middle;\n",
              "    }\n",
              "\n",
              "    .dataframe tbody tr th {\n",
              "        vertical-align: top;\n",
              "    }\n",
              "\n",
              "    .dataframe thead th {\n",
              "        text-align: right;\n",
              "    }\n",
              "</style>\n",
              "<table border=\"1\" class=\"dataframe\">\n",
              "  <thead>\n",
              "    <tr style=\"text-align: right;\">\n",
              "      <th></th>\n",
              "      <th>White_ratio</th>\n",
              "      <th>Black_ratio</th>\n",
              "      <th>Indian_ratio</th>\n",
              "      <th>Asian_ratio</th>\n",
              "      <th>Islander_ratio</th>\n",
              "      <th>Other_ratio</th>\n",
              "      <th>Vote for a rate</th>\n",
              "    </tr>\n",
              "    <tr>\n",
              "      <th>precinct</th>\n",
              "      <th></th>\n",
              "      <th></th>\n",
              "      <th></th>\n",
              "      <th></th>\n",
              "      <th></th>\n",
              "      <th></th>\n",
              "      <th></th>\n",
              "    </tr>\n",
              "  </thead>\n",
              "  <tbody>\n",
              "    <tr>\n",
              "      <th>3410</th>\n",
              "      <td>0.506024</td>\n",
              "      <td>0.014307</td>\n",
              "      <td>0.009036</td>\n",
              "      <td>0.364458</td>\n",
              "      <td>0.000000</td>\n",
              "      <td>0.106175</td>\n",
              "      <td>0.625076</td>\n",
              "    </tr>\n",
              "    <tr>\n",
              "      <th>2951</th>\n",
              "      <td>0.503198</td>\n",
              "      <td>0.060412</td>\n",
              "      <td>0.029851</td>\n",
              "      <td>0.255153</td>\n",
              "      <td>0.025586</td>\n",
              "      <td>0.125800</td>\n",
              "      <td>0.512605</td>\n",
              "    </tr>\n",
              "    <tr>\n",
              "      <th>2018</th>\n",
              "      <td>0.684175</td>\n",
              "      <td>0.019782</td>\n",
              "      <td>0.001364</td>\n",
              "      <td>0.251023</td>\n",
              "      <td>0.002046</td>\n",
              "      <td>0.041610</td>\n",
              "      <td>0.600000</td>\n",
              "    </tr>\n",
              "    <tr>\n",
              "      <th>3402</th>\n",
              "      <td>0.684175</td>\n",
              "      <td>0.019782</td>\n",
              "      <td>0.001364</td>\n",
              "      <td>0.251023</td>\n",
              "      <td>0.002046</td>\n",
              "      <td>0.041610</td>\n",
              "      <td>0.696100</td>\n",
              "    </tr>\n",
              "    <tr>\n",
              "      <th>2013</th>\n",
              "      <td>0.519506</td>\n",
              "      <td>0.014954</td>\n",
              "      <td>0.002276</td>\n",
              "      <td>0.434005</td>\n",
              "      <td>0.001625</td>\n",
              "      <td>0.027633</td>\n",
              "      <td>0.708940</td>\n",
              "    </tr>\n",
              "    <tr>\n",
              "      <th>2006</th>\n",
              "      <td>0.481328</td>\n",
              "      <td>0.009682</td>\n",
              "      <td>0.001383</td>\n",
              "      <td>0.460581</td>\n",
              "      <td>0.004149</td>\n",
              "      <td>0.042877</td>\n",
              "      <td>0.721311</td>\n",
              "    </tr>\n",
              "    <tr>\n",
              "      <th>2125</th>\n",
              "      <td>0.481328</td>\n",
              "      <td>0.009682</td>\n",
              "      <td>0.001383</td>\n",
              "      <td>0.460581</td>\n",
              "      <td>0.004149</td>\n",
              "      <td>0.042877</td>\n",
              "      <td>0.721649</td>\n",
              "    </tr>\n",
              "    <tr>\n",
              "      <th>3427</th>\n",
              "      <td>0.454167</td>\n",
              "      <td>0.025000</td>\n",
              "      <td>0.010648</td>\n",
              "      <td>0.412500</td>\n",
              "      <td>0.001852</td>\n",
              "      <td>0.095833</td>\n",
              "      <td>0.642408</td>\n",
              "    </tr>\n",
              "    <tr>\n",
              "      <th>2305</th>\n",
              "      <td>0.526425</td>\n",
              "      <td>0.015625</td>\n",
              "      <td>0.005515</td>\n",
              "      <td>0.378906</td>\n",
              "      <td>0.001838</td>\n",
              "      <td>0.071691</td>\n",
              "      <td>0.686802</td>\n",
              "    </tr>\n",
              "    <tr>\n",
              "      <th>3434</th>\n",
              "      <td>0.613226</td>\n",
              "      <td>0.011356</td>\n",
              "      <td>0.000668</td>\n",
              "      <td>0.350033</td>\n",
              "      <td>0.001336</td>\n",
              "      <td>0.023380</td>\n",
              "      <td>0.695718</td>\n",
              "    </tr>\n",
              "    <tr>\n",
              "      <th>3438</th>\n",
              "      <td>0.472754</td>\n",
              "      <td>0.018409</td>\n",
              "      <td>0.011782</td>\n",
              "      <td>0.432253</td>\n",
              "      <td>0.002946</td>\n",
              "      <td>0.061856</td>\n",
              "      <td>0.658633</td>\n",
              "    </tr>\n",
              "    <tr>\n",
              "      <th>3445</th>\n",
              "      <td>0.583113</td>\n",
              "      <td>0.011609</td>\n",
              "      <td>0.001583</td>\n",
              "      <td>0.329815</td>\n",
              "      <td>0.001583</td>\n",
              "      <td>0.072296</td>\n",
              "      <td>0.640127</td>\n",
              "    </tr>\n",
              "    <tr>\n",
              "      <th>3417</th>\n",
              "      <td>0.557268</td>\n",
              "      <td>0.024140</td>\n",
              "      <td>0.009245</td>\n",
              "      <td>0.343606</td>\n",
              "      <td>0.001027</td>\n",
              "      <td>0.064715</td>\n",
              "      <td>0.686951</td>\n",
              "    </tr>\n",
              "    <tr>\n",
              "      <th>3407</th>\n",
              "      <td>0.509306</td>\n",
              "      <td>0.014382</td>\n",
              "      <td>0.018613</td>\n",
              "      <td>0.343486</td>\n",
              "      <td>0.016074</td>\n",
              "      <td>0.098139</td>\n",
              "      <td>0.664145</td>\n",
              "    </tr>\n",
              "    <tr>\n",
              "      <th>3409</th>\n",
              "      <td>0.419481</td>\n",
              "      <td>0.014286</td>\n",
              "      <td>0.008442</td>\n",
              "      <td>0.470779</td>\n",
              "      <td>0.000000</td>\n",
              "      <td>0.087013</td>\n",
              "      <td>0.649017</td>\n",
              "    </tr>\n",
              "    <tr>\n",
              "      <th>3408</th>\n",
              "      <td>0.487398</td>\n",
              "      <td>0.018985</td>\n",
              "      <td>0.019313</td>\n",
              "      <td>0.308347</td>\n",
              "      <td>0.003928</td>\n",
              "      <td>0.162029</td>\n",
              "      <td>0.665003</td>\n",
              "    </tr>\n",
              "    <tr>\n",
              "      <th>3406</th>\n",
              "      <td>0.344143</td>\n",
              "      <td>0.016545</td>\n",
              "      <td>0.017869</td>\n",
              "      <td>0.329252</td>\n",
              "      <td>0.001324</td>\n",
              "      <td>0.290867</td>\n",
              "      <td>0.641209</td>\n",
              "    </tr>\n",
              "  </tbody>\n",
              "</table>\n",
              "</div>\n",
              "      <button class=\"colab-df-convert\" onclick=\"convertToInteractive('df-713f544f-c058-4360-b036-d962424a3002')\"\n",
              "              title=\"Convert this dataframe to an interactive table.\"\n",
              "              style=\"display:none;\">\n",
              "        \n",
              "  <svg xmlns=\"http://www.w3.org/2000/svg\" height=\"24px\"viewBox=\"0 0 24 24\"\n",
              "       width=\"24px\">\n",
              "    <path d=\"M0 0h24v24H0V0z\" fill=\"none\"/>\n",
              "    <path d=\"M18.56 5.44l.94 2.06.94-2.06 2.06-.94-2.06-.94-.94-2.06-.94 2.06-2.06.94zm-11 1L8.5 8.5l.94-2.06 2.06-.94-2.06-.94L8.5 2.5l-.94 2.06-2.06.94zm10 10l.94 2.06.94-2.06 2.06-.94-2.06-.94-.94-2.06-.94 2.06-2.06.94z\"/><path d=\"M17.41 7.96l-1.37-1.37c-.4-.4-.92-.59-1.43-.59-.52 0-1.04.2-1.43.59L10.3 9.45l-7.72 7.72c-.78.78-.78 2.05 0 2.83L4 21.41c.39.39.9.59 1.41.59.51 0 1.02-.2 1.41-.59l7.78-7.78 2.81-2.81c.8-.78.8-2.07 0-2.86zM5.41 20L4 18.59l7.72-7.72 1.47 1.35L5.41 20z\"/>\n",
              "  </svg>\n",
              "      </button>\n",
              "      \n",
              "  <style>\n",
              "    .colab-df-container {\n",
              "      display:flex;\n",
              "      flex-wrap:wrap;\n",
              "      gap: 12px;\n",
              "    }\n",
              "\n",
              "    .colab-df-convert {\n",
              "      background-color: #E8F0FE;\n",
              "      border: none;\n",
              "      border-radius: 50%;\n",
              "      cursor: pointer;\n",
              "      display: none;\n",
              "      fill: #1967D2;\n",
              "      height: 32px;\n",
              "      padding: 0 0 0 0;\n",
              "      width: 32px;\n",
              "    }\n",
              "\n",
              "    .colab-df-convert:hover {\n",
              "      background-color: #E2EBFA;\n",
              "      box-shadow: 0px 1px 2px rgba(60, 64, 67, 0.3), 0px 1px 3px 1px rgba(60, 64, 67, 0.15);\n",
              "      fill: #174EA6;\n",
              "    }\n",
              "\n",
              "    [theme=dark] .colab-df-convert {\n",
              "      background-color: #3B4455;\n",
              "      fill: #D2E3FC;\n",
              "    }\n",
              "\n",
              "    [theme=dark] .colab-df-convert:hover {\n",
              "      background-color: #434B5C;\n",
              "      box-shadow: 0px 1px 3px 1px rgba(0, 0, 0, 0.15);\n",
              "      filter: drop-shadow(0px 1px 2px rgba(0, 0, 0, 0.3));\n",
              "      fill: #FFFFFF;\n",
              "    }\n",
              "  </style>\n",
              "\n",
              "      <script>\n",
              "        const buttonEl =\n",
              "          document.querySelector('#df-713f544f-c058-4360-b036-d962424a3002 button.colab-df-convert');\n",
              "        buttonEl.style.display =\n",
              "          google.colab.kernel.accessAllowed ? 'block' : 'none';\n",
              "\n",
              "        async function convertToInteractive(key) {\n",
              "          const element = document.querySelector('#df-713f544f-c058-4360-b036-d962424a3002');\n",
              "          const dataTable =\n",
              "            await google.colab.kernel.invokeFunction('convertToInteractive',\n",
              "                                                     [key], {});\n",
              "          if (!dataTable) return;\n",
              "\n",
              "          const docLinkHtml = 'Like what you see? Visit the ' +\n",
              "            '<a target=\"_blank\" href=https://colab.research.google.com/notebooks/data_table.ipynb>data table notebook</a>'\n",
              "            + ' to learn more about interactive tables.';\n",
              "          element.innerHTML = '';\n",
              "          dataTable['output_type'] = 'display_data';\n",
              "          await google.colab.output.renderOutput(dataTable, element);\n",
              "          const docLink = document.createElement('div');\n",
              "          docLink.innerHTML = docLinkHtml;\n",
              "          element.appendChild(docLink);\n",
              "        }\n",
              "      </script>\n",
              "    </div>\n",
              "  </div>\n",
              "  "
            ],
            "text/plain": [
              "          White_ratio  Black_ratio  Indian_ratio  Asian_ratio  Islander_ratio  \\\n",
              "precinct                                                                        \n",
              "3410         0.506024     0.014307      0.009036     0.364458        0.000000   \n",
              "2951         0.503198     0.060412      0.029851     0.255153        0.025586   \n",
              "2018         0.684175     0.019782      0.001364     0.251023        0.002046   \n",
              "3402         0.684175     0.019782      0.001364     0.251023        0.002046   \n",
              "2013         0.519506     0.014954      0.002276     0.434005        0.001625   \n",
              "2006         0.481328     0.009682      0.001383     0.460581        0.004149   \n",
              "2125         0.481328     0.009682      0.001383     0.460581        0.004149   \n",
              "3427         0.454167     0.025000      0.010648     0.412500        0.001852   \n",
              "2305         0.526425     0.015625      0.005515     0.378906        0.001838   \n",
              "3434         0.613226     0.011356      0.000668     0.350033        0.001336   \n",
              "3438         0.472754     0.018409      0.011782     0.432253        0.002946   \n",
              "3445         0.583113     0.011609      0.001583     0.329815        0.001583   \n",
              "3417         0.557268     0.024140      0.009245     0.343606        0.001027   \n",
              "3407         0.509306     0.014382      0.018613     0.343486        0.016074   \n",
              "3409         0.419481     0.014286      0.008442     0.470779        0.000000   \n",
              "3408         0.487398     0.018985      0.019313     0.308347        0.003928   \n",
              "3406         0.344143     0.016545      0.017869     0.329252        0.001324   \n",
              "\n",
              "          Other_ratio  Vote for a rate  \n",
              "precinct                                \n",
              "3410         0.106175         0.625076  \n",
              "2951         0.125800         0.512605  \n",
              "2018         0.041610         0.600000  \n",
              "3402         0.041610         0.696100  \n",
              "2013         0.027633         0.708940  \n",
              "2006         0.042877         0.721311  \n",
              "2125         0.042877         0.721649  \n",
              "3427         0.095833         0.642408  \n",
              "2305         0.071691         0.686802  \n",
              "3434         0.023380         0.695718  \n",
              "3438         0.061856         0.658633  \n",
              "3445         0.072296         0.640127  \n",
              "3417         0.064715         0.686951  \n",
              "3407         0.098139         0.664145  \n",
              "3409         0.087013         0.649017  \n",
              "3408         0.162029         0.665003  \n",
              "3406         0.290867         0.641209  "
            ]
          },
          "metadata": {},
          "execution_count": 11
        }
      ]
    },
    {
      "cell_type": "code",
      "source": [
        "from sklearn.model_selection import train_test_split\n",
        "from sklearn.linear_model import ElasticNetCV\n",
        "from sklearn.preprocessing import StandardScaler\n",
        "df_4 = df_4.drop(3402) #same census tract with 2018\n",
        "X = df_4.iloc[:, :-1]\n",
        "Y = df_4.iloc[:, -1:]\n",
        "train_x, test_x, train_y, test_y = train_test_split(X, Y, test_size = 0.2, shuffle=True, random_state=67)"
      ],
      "metadata": {
        "id": "aK9JO6MJInhp"
      },
      "execution_count": null,
      "outputs": []
    },
    {
      "cell_type": "code",
      "source": [
        "clf = ElasticNetCV()\n",
        "clf = clf.fit(train_x,train_y)\n",
        "preds = clf.predict(test_x)\n",
        "#rmse 0.074\n",
        "#R2 0.06\n",
        "#mae 0.057"
      ],
      "metadata": {
        "colab": {
          "base_uri": "https://localhost:8080/"
        },
        "id": "ThivnnuZPiQT",
        "outputId": "5ac0cda5-5bc1-4ba5-eb5d-71c3a0214d73"
      },
      "execution_count": null,
      "outputs": [
        {
          "output_type": "stream",
          "name": "stderr",
          "text": [
            "/usr/local/lib/python3.7/dist-packages/sklearn/linear_model/_coordinate_descent.py:1572: DataConversionWarning: A column-vector y was passed when a 1d array was expected. Please change the shape of y to (n_samples, ), for example using ravel().\n",
            "  y = column_or_1d(y, warn=True)\n"
          ]
        }
      ]
    },
    {
      "cell_type": "markdown",
      "source": [
        "##Loss is 0.04 in mae"
      ],
      "metadata": {
        "id": "iR-CXe08SLKe"
      }
    },
    {
      "cell_type": "code",
      "source": [
        "from sklearn.metrics import mean_absolute_error as MAE\n",
        "mae = MAE(test_y, preds)\n",
        "mae"
      ],
      "metadata": {
        "colab": {
          "base_uri": "https://localhost:8080/"
        },
        "id": "uA2XMmc2OUPC",
        "outputId": "5746bc05-583b-42f2-c389-2a710f7f229f"
      },
      "execution_count": null,
      "outputs": [
        {
          "output_type": "execute_result",
          "data": {
            "text/plain": [
              "0.04015630526307745"
            ]
          },
          "metadata": {},
          "execution_count": 15
        }
      ]
    },
    {
      "cell_type": "markdown",
      "source": [
        "##Here is Prediction and actual Score(Vote for a rate)\n",
        "\n",
        "---\n",
        "\n"
      ],
      "metadata": {
        "id": "SUWIw8jrO2Gh"
      }
    },
    {
      "cell_type": "code",
      "source": [
        "test_y[\"Prediction\"]  = preds\n",
        "test_y"
      ],
      "metadata": {
        "colab": {
          "base_uri": "https://localhost:8080/",
          "height": 206
        },
        "id": "i1oas-_CRrpg",
        "outputId": "05a53324-542e-4fb3-f504-b3d1f17f42af"
      },
      "execution_count": null,
      "outputs": [
        {
          "output_type": "execute_result",
          "data": {
            "text/html": [
              "\n",
              "  <div id=\"df-1d3d8704-03b8-48ef-ad0b-c58fa19bcba8\">\n",
              "    <div class=\"colab-df-container\">\n",
              "      <div>\n",
              "<style scoped>\n",
              "    .dataframe tbody tr th:only-of-type {\n",
              "        vertical-align: middle;\n",
              "    }\n",
              "\n",
              "    .dataframe tbody tr th {\n",
              "        vertical-align: top;\n",
              "    }\n",
              "\n",
              "    .dataframe thead th {\n",
              "        text-align: right;\n",
              "    }\n",
              "</style>\n",
              "<table border=\"1\" class=\"dataframe\">\n",
              "  <thead>\n",
              "    <tr style=\"text-align: right;\">\n",
              "      <th></th>\n",
              "      <th>Vote for a rate</th>\n",
              "      <th>Prediction</th>\n",
              "    </tr>\n",
              "    <tr>\n",
              "      <th>precinct</th>\n",
              "      <th></th>\n",
              "      <th></th>\n",
              "    </tr>\n",
              "  </thead>\n",
              "  <tbody>\n",
              "    <tr>\n",
              "      <th>2018</th>\n",
              "      <td>0.600000</td>\n",
              "      <td>0.654248</td>\n",
              "    </tr>\n",
              "    <tr>\n",
              "      <th>3417</th>\n",
              "      <td>0.686951</td>\n",
              "      <td>0.647141</td>\n",
              "    </tr>\n",
              "    <tr>\n",
              "      <th>3410</th>\n",
              "      <td>0.625076</td>\n",
              "      <td>0.670035</td>\n",
              "    </tr>\n",
              "    <tr>\n",
              "      <th>2006</th>\n",
              "      <td>0.721311</td>\n",
              "      <td>0.699703</td>\n",
              "    </tr>\n",
              "  </tbody>\n",
              "</table>\n",
              "</div>\n",
              "      <button class=\"colab-df-convert\" onclick=\"convertToInteractive('df-1d3d8704-03b8-48ef-ad0b-c58fa19bcba8')\"\n",
              "              title=\"Convert this dataframe to an interactive table.\"\n",
              "              style=\"display:none;\">\n",
              "        \n",
              "  <svg xmlns=\"http://www.w3.org/2000/svg\" height=\"24px\"viewBox=\"0 0 24 24\"\n",
              "       width=\"24px\">\n",
              "    <path d=\"M0 0h24v24H0V0z\" fill=\"none\"/>\n",
              "    <path d=\"M18.56 5.44l.94 2.06.94-2.06 2.06-.94-2.06-.94-.94-2.06-.94 2.06-2.06.94zm-11 1L8.5 8.5l.94-2.06 2.06-.94-2.06-.94L8.5 2.5l-.94 2.06-2.06.94zm10 10l.94 2.06.94-2.06 2.06-.94-2.06-.94-.94-2.06-.94 2.06-2.06.94z\"/><path d=\"M17.41 7.96l-1.37-1.37c-.4-.4-.92-.59-1.43-.59-.52 0-1.04.2-1.43.59L10.3 9.45l-7.72 7.72c-.78.78-.78 2.05 0 2.83L4 21.41c.39.39.9.59 1.41.59.51 0 1.02-.2 1.41-.59l7.78-7.78 2.81-2.81c.8-.78.8-2.07 0-2.86zM5.41 20L4 18.59l7.72-7.72 1.47 1.35L5.41 20z\"/>\n",
              "  </svg>\n",
              "      </button>\n",
              "      \n",
              "  <style>\n",
              "    .colab-df-container {\n",
              "      display:flex;\n",
              "      flex-wrap:wrap;\n",
              "      gap: 12px;\n",
              "    }\n",
              "\n",
              "    .colab-df-convert {\n",
              "      background-color: #E8F0FE;\n",
              "      border: none;\n",
              "      border-radius: 50%;\n",
              "      cursor: pointer;\n",
              "      display: none;\n",
              "      fill: #1967D2;\n",
              "      height: 32px;\n",
              "      padding: 0 0 0 0;\n",
              "      width: 32px;\n",
              "    }\n",
              "\n",
              "    .colab-df-convert:hover {\n",
              "      background-color: #E2EBFA;\n",
              "      box-shadow: 0px 1px 2px rgba(60, 64, 67, 0.3), 0px 1px 3px 1px rgba(60, 64, 67, 0.15);\n",
              "      fill: #174EA6;\n",
              "    }\n",
              "\n",
              "    [theme=dark] .colab-df-convert {\n",
              "      background-color: #3B4455;\n",
              "      fill: #D2E3FC;\n",
              "    }\n",
              "\n",
              "    [theme=dark] .colab-df-convert:hover {\n",
              "      background-color: #434B5C;\n",
              "      box-shadow: 0px 1px 3px 1px rgba(0, 0, 0, 0.15);\n",
              "      filter: drop-shadow(0px 1px 2px rgba(0, 0, 0, 0.3));\n",
              "      fill: #FFFFFF;\n",
              "    }\n",
              "  </style>\n",
              "\n",
              "      <script>\n",
              "        const buttonEl =\n",
              "          document.querySelector('#df-1d3d8704-03b8-48ef-ad0b-c58fa19bcba8 button.colab-df-convert');\n",
              "        buttonEl.style.display =\n",
              "          google.colab.kernel.accessAllowed ? 'block' : 'none';\n",
              "\n",
              "        async function convertToInteractive(key) {\n",
              "          const element = document.querySelector('#df-1d3d8704-03b8-48ef-ad0b-c58fa19bcba8');\n",
              "          const dataTable =\n",
              "            await google.colab.kernel.invokeFunction('convertToInteractive',\n",
              "                                                     [key], {});\n",
              "          if (!dataTable) return;\n",
              "\n",
              "          const docLinkHtml = 'Like what you see? Visit the ' +\n",
              "            '<a target=\"_blank\" href=https://colab.research.google.com/notebooks/data_table.ipynb>data table notebook</a>'\n",
              "            + ' to learn more about interactive tables.';\n",
              "          element.innerHTML = '';\n",
              "          dataTable['output_type'] = 'display_data';\n",
              "          await google.colab.output.renderOutput(dataTable, element);\n",
              "          const docLink = document.createElement('div');\n",
              "          docLink.innerHTML = docLinkHtml;\n",
              "          element.appendChild(docLink);\n",
              "        }\n",
              "      </script>\n",
              "    </div>\n",
              "  </div>\n",
              "  "
            ],
            "text/plain": [
              "          Vote for a rate  Prediction\n",
              "precinct                             \n",
              "2018             0.600000    0.654248\n",
              "3417             0.686951    0.647141\n",
              "3410             0.625076    0.670035\n",
              "2006             0.721311    0.699703"
            ]
          },
          "metadata": {},
          "execution_count": 17
        }
      ]
    }
  ]
}